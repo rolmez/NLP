{
 "cells": [
  {
   "cell_type": "code",
   "execution_count": 1,
   "metadata": {},
   "outputs": [],
   "source": [
    "import nltk"
   ]
  },
  {
   "cell_type": "code",
   "execution_count": 2,
   "metadata": {},
   "outputs": [],
   "source": [
    "text = 'Friedrich Wilhelm Nietzche was a German philosopher, cultural critic, composer, poet, philologist, and a Latin and Greek scholar whose work has exerted a profound influence on Western philosophy tradition, Nietzsches writings have been described as the unique case of free revolutionary thought, that is, revolutionary in its structure and problems, although not tied to any revolutionary project. Nietzche died in 1900.'"
   ]
  },
  {
   "cell_type": "code",
   "execution_count": 5,
   "metadata": {},
   "outputs": [],
   "source": [
    "tokenized = nltk.word_tokenize(text)"
   ]
  },
  {
   "cell_type": "code",
   "execution_count": 6,
   "metadata": {},
   "outputs": [
    {
     "data": {
      "text/plain": [
       "[('Friedrich', 'NNP'),\n",
       " ('Wilhelm', 'NNP'),\n",
       " ('Nietzche', 'NNP'),\n",
       " ('was', 'VBD'),\n",
       " ('a', 'DT'),\n",
       " ('German', 'JJ'),\n",
       " ('philosopher', 'NN'),\n",
       " (',', ','),\n",
       " ('cultural', 'JJ'),\n",
       " ('critic', 'NN'),\n",
       " (',', ','),\n",
       " ('composer', 'NN'),\n",
       " (',', ','),\n",
       " ('poet', 'NN'),\n",
       " (',', ','),\n",
       " ('philologist', 'NN'),\n",
       " (',', ','),\n",
       " ('and', 'CC'),\n",
       " ('a', 'DT'),\n",
       " ('Latin', 'NNP'),\n",
       " ('and', 'CC'),\n",
       " ('Greek', 'NNP'),\n",
       " ('scholar', 'NN'),\n",
       " ('whose', 'WP$'),\n",
       " ('work', 'NN'),\n",
       " ('has', 'VBZ'),\n",
       " ('exerted', 'VBN'),\n",
       " ('a', 'DT'),\n",
       " ('profound', 'JJ'),\n",
       " ('influence', 'NN'),\n",
       " ('on', 'IN'),\n",
       " ('Western', 'JJ'),\n",
       " ('philosophy', 'NN'),\n",
       " ('tradition', 'NN'),\n",
       " (',', ','),\n",
       " ('Nietzsches', 'NNP'),\n",
       " ('writings', 'NNS'),\n",
       " ('have', 'VBP'),\n",
       " ('been', 'VBN'),\n",
       " ('described', 'VBN'),\n",
       " ('as', 'IN'),\n",
       " ('the', 'DT'),\n",
       " ('unique', 'JJ'),\n",
       " ('case', 'NN'),\n",
       " ('of', 'IN'),\n",
       " ('free', 'JJ'),\n",
       " ('revolutionary', 'JJ'),\n",
       " ('thought', 'NN'),\n",
       " (',', ','),\n",
       " ('that', 'WDT'),\n",
       " ('is', 'VBZ'),\n",
       " (',', ','),\n",
       " ('revolutionary', 'JJ'),\n",
       " ('in', 'IN'),\n",
       " ('its', 'PRP$'),\n",
       " ('structure', 'NN'),\n",
       " ('and', 'CC'),\n",
       " ('problems', 'NNS'),\n",
       " (',', ','),\n",
       " ('although', 'IN'),\n",
       " ('not', 'RB'),\n",
       " ('tied', 'VBN'),\n",
       " ('to', 'TO'),\n",
       " ('any', 'DT'),\n",
       " ('revolutionary', 'JJ'),\n",
       " ('project', 'NN'),\n",
       " ('.', '.'),\n",
       " ('Nietzche', 'NNP'),\n",
       " ('died', 'VBD'),\n",
       " ('in', 'IN'),\n",
       " ('1900', 'CD'),\n",
       " ('.', '.')]"
      ]
     },
     "execution_count": 6,
     "metadata": {},
     "output_type": "execute_result"
    }
   ],
   "source": [
    "nltk.pos_tag(tokenized)"
   ]
  },
  {
   "cell_type": "markdown",
   "metadata": {},
   "source": [
    "POS tag list:\n",
    "\n",
    "    CC coordinating conjunction\n",
    "    CD cardinal digit\n",
    "    DT determiner\n",
    "    EX existential there (like: \"there is\" ... think of it like \"there exists\")\n",
    "    FW foreign word\n",
    "    IN preposition/subordinating conjunction\n",
    "    JJ adjective 'big'\n",
    "    JJR adjective, comparative 'bigger'\n",
    "    JJS adjective, superlative 'biggest'\n",
    "    LS list marker 1)\n",
    "    MD modal could, will\n",
    "    NN noun, singular 'desk'\n",
    "    NNS noun plural 'desks'\n",
    "    NNP proper noun, singular 'Harrison'\n",
    "    NNPS proper noun, plural 'Americans'\n",
    "    PDT predeterminer 'all the kids'\n",
    "    POS possessive ending parent's\n",
    "    PRP personal pronoun I, he, she\n",
    "    PRP$ possessive pronoun my, his, hers\n",
    "    RB adverb very, silently,\n",
    "    RBR adverb, comparative better\n",
    "    RBS adverb, superlative best\n",
    "    RP particle give up\n",
    "    TO to go 'to' the store.\n",
    "    UH interjection errrrrrrrm\n",
    "    VB verb, base form take\n",
    "    VBD verb, past tense took\n",
    "    VBG verb, gerund/present participle taking\n",
    "    VBN verb, past participle taken\n",
    "    VBP verb, sing. present, non-3d take\n",
    "    VBZ verb, 3rd person sing. present takes\n",
    "    WDT wh-determiner which\n",
    "    WP wh-pronoun who, what\n",
    "    WP$ possessive wh-pronoun whose\n",
    "    WRB wh-abverb where, when\n"
   ]
  },
  {
   "cell_type": "code",
   "execution_count": null,
   "metadata": {},
   "outputs": [],
   "source": []
  }
 ],
 "metadata": {
  "kernelspec": {
   "display_name": "Python 3",
   "language": "python",
   "name": "python3"
  },
  "language_info": {
   "codemirror_mode": {
    "name": "ipython",
    "version": 3
   },
   "file_extension": ".py",
   "mimetype": "text/x-python",
   "name": "python",
   "nbconvert_exporter": "python",
   "pygments_lexer": "ipython3",
   "version": "3.7.4"
  }
 },
 "nbformat": 4,
 "nbformat_minor": 2
}
