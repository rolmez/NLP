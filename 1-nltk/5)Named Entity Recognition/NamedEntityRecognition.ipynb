{
 "cells": [
  {
   "cell_type": "code",
   "execution_count": 1,
   "metadata": {},
   "outputs": [],
   "source": [
    "import nltk"
   ]
  },
  {
   "cell_type": "code",
   "execution_count": 2,
   "metadata": {},
   "outputs": [],
   "source": [
    "text = 'Steve Jobs was an American enterpreneur and business magnate. He was the chairman, chief executive officer (CEO), and co-founder of Apple Inc., the chairman and majority shareholder of Pixar, a member of The Walt Disney Companys board of directors following its acquisition of Pixar, and the founder, chairman, and CEO of NeXT.'"
   ]
  },
  {
   "cell_type": "code",
   "execution_count": 3,
   "metadata": {},
   "outputs": [],
   "source": [
    "tokenized = nltk.word_tokenize(text)"
   ]
  },
  {
   "cell_type": "code",
   "execution_count": 4,
   "metadata": {},
   "outputs": [],
   "source": [
    "tagged = nltk.pos_tag(tokenized)"
   ]
  },
  {
   "cell_type": "code",
   "execution_count": 5,
   "metadata": {},
   "outputs": [],
   "source": [
    "named_ent = nltk.ne_chunk(tagged)"
   ]
  },
  {
   "cell_type": "code",
   "execution_count": null,
   "metadata": {},
   "outputs": [],
   "source": [
    "named_ent.draw()"
   ]
  },
  {
   "cell_type": "raw",
   "metadata": {},
   "source": [
    "Tür           -> Örnek\n",
    "ORGANIZATION  -> Georgia-Pacific Corp., WHO\n",
    "PERSON        -> Eddy Bonte, President Obama\n",
    "LOCATION      -> Murray River, Mount Everest\n",
    "DATE          -> June, 2008-06-29   \n",
    "TIME          -> two fifty a.m, 1:30 p.m.\n",
    "MONEY         -> 175 million Canadian Dollars, GBP 10.40\n",
    "PERCENT       -> twenty pct, 18.75 %\n",
    "FACILITY      -> Washington Monument, Stonehenge\n",
    "GPE           -> South East Asia, Midlothian"
   ]
  }
 ],
 "metadata": {
  "kernelspec": {
   "display_name": "Python 3",
   "language": "python",
   "name": "python3"
  },
  "language_info": {
   "codemirror_mode": {
    "name": "ipython",
    "version": 3
   },
   "file_extension": ".py",
   "mimetype": "text/x-python",
   "name": "python",
   "nbconvert_exporter": "python",
   "pygments_lexer": "ipython3",
   "version": "3.7.4"
  }
 },
 "nbformat": 4,
 "nbformat_minor": 2
}
