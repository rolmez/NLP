{
 "cells": [
  {
   "cell_type": "code",
   "execution_count": 1,
   "metadata": {},
   "outputs": [],
   "source": [
    "from nltk.corpus import stopwords\n",
    "from nltk.tokenize import word_tokenize"
   ]
  },
  {
   "cell_type": "code",
   "execution_count": 17,
   "metadata": {},
   "outputs": [],
   "source": [
    "text = 'Fazıl Say is a Turkish pianist. Fazıl Say was born in 1970. He was a child prodigy. '"
   ]
  },
  {
   "cell_type": "code",
   "execution_count": 14,
   "metadata": {},
   "outputs": [],
   "source": [
    "stopwords = stopwords.words('english')"
   ]
  },
  {
   "cell_type": "code",
   "execution_count": 11,
   "metadata": {},
   "outputs": [],
   "source": [
    "words = word_tokenize(text)"
   ]
  },
  {
   "cell_type": "code",
   "execution_count": 15,
   "metadata": {},
   "outputs": [],
   "source": [
    "filtered_words = []\n",
    "for word in words:\n",
    "    if word not in stopwords:\n",
    "        filtered_words.append(word)"
   ]
  },
  {
   "cell_type": "code",
   "execution_count": 18,
   "metadata": {},
   "outputs": [
    {
     "data": {
      "text/plain": [
       "['Fazıl',\n",
       " 'Say',\n",
       " 'Turkish',\n",
       " 'pianist',\n",
       " '.',\n",
       " 'Fazıl',\n",
       " 'Say',\n",
       " 'born',\n",
       " '1970',\n",
       " '.',\n",
       " 'He',\n",
       " 'child',\n",
       " 'prodigy',\n",
       " ',',\n",
       " 'able',\n",
       " 'basic',\n",
       " 'arithmetic',\n",
       " '4-digit',\n",
       " 'numbers',\n",
       " 'age',\n",
       " 'two',\n",
       " '.',\n",
       " 'His',\n",
       " 'father',\n",
       " ',',\n",
       " 'found',\n",
       " 'playing',\n",
       " 'melody',\n",
       " '``',\n",
       " 'Daha',\n",
       " 'Dün',\n",
       " 'Annemizin',\n",
       " \"''\",\n",
       " '(',\n",
       " 'Turkish',\n",
       " 'version',\n",
       " 'Ah',\n",
       " '!',\n",
       " 'vous',\n",
       " 'dirai-je',\n",
       " ',',\n",
       " 'maman',\n",
       " ')',\n",
       " 'makeshift',\n",
       " 'flute',\n",
       " 'prior',\n",
       " 'training',\n",
       " ',',\n",
       " 'enlisted',\n",
       " 'help',\n",
       " 'Ali',\n",
       " 'Kemal',\n",
       " 'Kaya',\n",
       " ',',\n",
       " 'oboe',\n",
       " 'artist',\n",
       " 'family',\n",
       " 'friend',\n",
       " '.',\n",
       " 'At',\n",
       " 'age',\n",
       " 'three',\n",
       " ',',\n",
       " 'Say',\n",
       " 'started',\n",
       " 'piano',\n",
       " 'lessons',\n",
       " 'tutelage',\n",
       " 'pianist',\n",
       " 'Mithat',\n",
       " 'Fenmen']"
      ]
     },
     "execution_count": 18,
     "metadata": {},
     "output_type": "execute_result"
    }
   ],
   "source": [
    "filtered_words"
   ]
  },
  {
   "cell_type": "code",
   "execution_count": null,
   "metadata": {},
   "outputs": [],
   "source": []
  }
 ],
 "metadata": {
  "kernelspec": {
   "display_name": "Python 3",
   "language": "python",
   "name": "python3"
  },
  "language_info": {
   "codemirror_mode": {
    "name": "ipython",
    "version": 3
   },
   "file_extension": ".py",
   "mimetype": "text/x-python",
   "name": "python",
   "nbconvert_exporter": "python",
   "pygments_lexer": "ipython3",
   "version": "3.7.4"
  }
 },
 "nbformat": 4,
 "nbformat_minor": 2
}
