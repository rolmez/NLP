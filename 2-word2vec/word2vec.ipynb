{
 "cells": [
  {
   "cell_type": "code",
   "execution_count": 1,
   "metadata": {},
   "outputs": [],
   "source": [
    "import numpy as np\n",
    "from gensim.models import Word2Vec\n",
    "from sklearn.manifold import TSNE\n",
    "import matplotlib.pyplot as plt"
   ]
  },
  {
   "cell_type": "code",
   "execution_count": 2,
   "metadata": {},
   "outputs": [],
   "source": [
    "f = open('hurriyet.txt', 'r', encoding = 'utf8')\n",
    "text = f.read()\n",
    "t_list = text.split('\\n')\n",
    "\n",
    "corpus = []\n",
    "for cumle in t_list:\n",
    "    corpus.append(cumle.split())"
   ]
  },
  {
   "cell_type": "code",
   "execution_count": 3,
   "metadata": {},
   "outputs": [
    {
     "name": "stdout",
     "output_type": "stream",
     "text": [
      "[['iran', 'devlet', 'televizyonu', 'ülkedeki', 'eyaletin', 'sinde', 'yapılan', 'reformcuları', 'protesto', 'amaçlı', 'yürüyüşlere', 'milyonlarca', 'kişinin', 'katıldığını', 'bildirdi'], ['gösterilerde', 'fitnecilere', 'ölüm', 'münafıklara', 'ölüm', 'abd', 'ye', 'ölüm', 'ingiltere', 'ye', 'ölüm', 'sloganları', 'atıldı'], ['dini', 'lider', 'ali', 'hamaney', 've', 'cumhurbaşkanı', 'mahmud', 'ahmedinejad', 'ı', 'destekleyen', 'iranlılar', 'son', 'olaylarda', 'yeğeni', 'öldürülen', 'mir', 'hüseyin', 'musevi', 'başta', 'olmak', 'üzere', 'muhalefet', 'liderlerini', 'kınadılar'], ['musevi', 'ye', 'ölüm', 've', 'idam', 'idam', 'sloganları', 'duyuldu'], ['muhalefet', 'liderleri', 'kaçtı', 'mı', 'aşure', 'günü', 'yaşanan', 'çatışmalarda', 'devlet', 'kaynaklarına', 'göre', 'u', 'terörist', 'olmak', 'üzere', 'kişi', 'ölmüştü'], ['den', 'fazla', 'kişinin', 'yaralandığı', 'olaylar', 'sırasında', 'en', 'az', 'kişi', 'tutuklanmıştı'], ['öte', 'yandan', 'iran', 'haber', 'ajansı', 'irna', 'muhalif', 'liderler', 'mir', 'hüseyin', 'musevi', 've', 'mehdi', 'kerrubi', 'nin', 'başkentten', 'kaçarak', 'ülkenin', 'kuzeyine', 'geçtiğini', 'ileri', 'sürdü', 'ancak', 'muhalefet', 'iddiayı', 'yalanladı'], ['hamaney', 'in', 'bir', 'dönem', 'korumalığını', 'yapan', 've', 'şu', 'anda', 'fransa', 'da', 'saklandığı', 'söylenen', 'bir', 'kişinin', 'muhalefete', 'verdiği', 'bilgilere', 'göre', 'münzevi', 'yaşamı', 'na', 'rağmen', 'dini', 'liderin', 'havyara', 'karşı', 'korkunç', 'bir', 'iştahı', 'var'], ['baston', 've', 'at', 'meraklısı', 'hamaney', 'aynı', 'zamanda', 'değerli', 'mücevherlerle', 'bezenmiş', 'bastonların', 've', 'cins', 'atların', 'koleksiyonunu', 'yapıyor'], ['hamaney', 'in', 'antika', 'bastonlarının', 'sayısı']]\n"
     ]
    }
   ],
   "source": [
    "print(corpus[:10])"
   ]
  },
  {
   "cell_type": "code",
   "execution_count": 4,
   "metadata": {},
   "outputs": [],
   "source": [
    "model = Word2Vec(corpus, size=100, window=5, min_count=5, sg=1)"
   ]
  },
  {
   "cell_type": "code",
   "execution_count": 5,
   "metadata": {},
   "outputs": [
    {
     "data": {
      "text/plain": [
       "array([-6.29693508e-01, -8.59159380e-02,  9.56386805e-01, -6.52873442e-02,\n",
       "        1.17762513e-01, -1.36815578e-01, -3.42599124e-01, -9.92435664e-02,\n",
       "       -8.76270354e-01,  1.03776090e-01, -1.99380368e-02,  1.06009156e-01,\n",
       "        8.82572681e-03, -1.75375611e-01,  1.54099435e-01,  3.30159575e-01,\n",
       "       -1.37244761e-01,  3.72013837e-01, -8.93473253e-02,  2.36352533e-02,\n",
       "       -2.31305480e-01,  8.71426687e-02,  3.17075789e-01,  6.63698196e-01,\n",
       "       -1.56918630e-01,  3.03731740e-01, -2.01040655e-01,  3.28505129e-01,\n",
       "       -5.12934506e-01,  1.83470547e-01, -1.25409827e-01, -3.80120546e-01,\n",
       "        4.56431687e-01,  3.18087131e-01,  1.97751045e-01, -4.03218240e-01,\n",
       "       -2.18979567e-01, -1.80094868e-01, -9.19346735e-02, -5.39985120e-01,\n",
       "        2.69915730e-01,  6.86774433e-01,  1.86371446e-01, -3.20643663e-01,\n",
       "       -1.34849682e-01, -1.39806256e-01, -5.52165732e-02,  5.17641485e-01,\n",
       "       -2.45732188e-01, -7.29143247e-02,  4.57021654e-01, -2.48038828e-01,\n",
       "        6.54532313e-02,  4.53295767e-01,  5.24062216e-01, -3.23219717e-01,\n",
       "       -4.63037677e-02,  2.00381145e-01,  4.15800333e-01,  2.67507672e-01,\n",
       "        5.43720484e-01, -3.20528090e-01,  5.98542571e-01,  4.92379963e-02,\n",
       "       -2.97653079e-01,  1.34631217e-01,  3.88661027e-02,  1.90483481e-02,\n",
       "        9.41421166e-02,  1.74337387e-01,  2.74633974e-01, -1.08577228e+00,\n",
       "       -2.10027099e-01,  6.44080162e-01,  1.71044260e-01,  2.02078819e-01,\n",
       "       -2.50438660e-01,  4.63759512e-01,  1.69679761e-01,  2.81983763e-01,\n",
       "       -7.40469620e-02, -4.07489449e-01,  7.28402510e-02, -4.42244951e-03,\n",
       "       -2.68718302e-01, -2.71945149e-01,  1.75699145e-02,  1.94481075e-01,\n",
       "        1.12560727e-01, -2.52449483e-01, -1.05465040e-01, -8.67115557e-01,\n",
       "       -1.43122848e-03,  5.89322634e-02,  2.91087687e-01,  4.04786050e-01,\n",
       "        4.90880758e-01,  1.26524186e-02,  1.51155531e-01,  9.89759224e-04],\n",
       "      dtype=float32)"
      ]
     },
     "execution_count": 5,
     "metadata": {},
     "output_type": "execute_result"
    }
   ],
   "source": [
    "model.wv['ankara']"
   ]
  },
  {
   "cell_type": "code",
   "execution_count": 6,
   "metadata": {},
   "outputs": [
    {
     "data": {
      "text/plain": [
       "[('avusturya', 0.8263012170791626),\n",
       " ('danimarka', 0.8036960363388062),\n",
       " ('belçika', 0.7992688417434692),\n",
       " ('kanada', 0.7709043025970459),\n",
       " ('almanya', 0.7653361558914185),\n",
       " ('ispanya', 0.7505944967269897),\n",
       " ('finlandiya', 0.7471174597740173),\n",
       " ('letonya', 0.7308926582336426),\n",
       " ('italya', 0.7275201082229614),\n",
       " ('fransa', 0.7174783945083618)]"
      ]
     },
     "execution_count": 6,
     "metadata": {},
     "output_type": "execute_result"
    }
   ],
   "source": [
    "model.wv.most_similar('hollanda')"
   ]
  },
  {
   "cell_type": "code",
   "execution_count": 7,
   "metadata": {},
   "outputs": [
    {
     "data": {
      "text/plain": [
       "[('perşembe', 0.9383319616317749),\n",
       " ('cumartesi', 0.9210575819015503),\n",
       " ('salı', 0.9094676375389099),\n",
       " ('çarşamba', 0.9035134315490723),\n",
       " ('cuma', 0.8930109739303589),\n",
       " ('günü', 0.8891835808753967),\n",
       " ('akşamı', 0.8435043096542358),\n",
       " ('pazar', 0.8312453031539917),\n",
       " ('sabahı', 0.8161305785179138),\n",
       " ('gününden', 0.7496998310089111)]"
      ]
     },
     "execution_count": 7,
     "metadata": {},
     "output_type": "execute_result"
    }
   ],
   "source": [
    "model.wv.most_similar('pazartesi')"
   ]
  },
  {
   "cell_type": "code",
   "execution_count": 8,
   "metadata": {},
   "outputs": [
    {
     "data": {
      "text/plain": [
       "[('twitter', 0.7440274953842163),\n",
       " ('facebook', 0.7269213199615479),\n",
       " ('twıtter', 0.7240245342254639),\n",
       " ('internete', 0.7141238451004028),\n",
       " ('whatsapp', 0.7116800546646118),\n",
       " ('paylaşım', 0.7091689109802246),\n",
       " ('sitelerine', 0.7046252489089966),\n",
       " ('sayfasına', 0.7014592289924622),\n",
       " ('video', 0.6816192865371704),\n",
       " ('ınstagram', 0.6785684823989868)]"
      ]
     },
     "execution_count": 8,
     "metadata": {},
     "output_type": "execute_result"
    }
   ],
   "source": [
    "model.wv.most_similar('youtube')"
   ]
  },
  {
   "cell_type": "code",
   "execution_count": 9,
   "metadata": {},
   "outputs": [],
   "source": [
    "model.save('word2vec.model')"
   ]
  },
  {
   "cell_type": "code",
   "execution_count": 10,
   "metadata": {},
   "outputs": [],
   "source": [
    "model = Word2Vec.load('word2vec.model')"
   ]
  },
  {
   "cell_type": "code",
   "execution_count": 13,
   "metadata": {},
   "outputs": [],
   "source": [
    "def closestwords_tsneplot(model, word):\n",
    "    word_vectors = np.empty((0, 100))\n",
    "    word_labels = [word]\n",
    "    \n",
    "    close_words = model.wv.most_similar(word)\n",
    "    \n",
    "    word_vectors = np.append(word_vectors, np.array([model.wv[word]]), axis=0)\n",
    "    \n",
    "    for w, _ in close_words:\n",
    "        word_labels.append(w)\n",
    "        word_vectors = np.append(word_vectors, np.array([model.wv[w]]), axis=0)\n",
    "        \n",
    "    tsne = TSNE(random_state=0)\n",
    "    Y = tsne.fit_transform(word_vectors)\n",
    "    \n",
    "    x_coords = Y[:, 0]\n",
    "    y_coords = Y[:, 1]\n",
    "    \n",
    "    plt.scatter(x_coords, y_coords)\n",
    "    \n",
    "    for label, x, y in zip(word_labels, x_coords, y_coords):\n",
    "        plt.annotate(label, xy=(x, y), xytext=(5, -2), textcoords='offset points')\n",
    "    \n",
    "    plt.show()"
   ]
  },
  {
   "cell_type": "code",
   "execution_count": 14,
   "metadata": {},
   "outputs": [
    {
     "data": {
      "image/png": "[encoded data removed]",
      "text/plain": [
       "<Figure size 432x288 with 1 Axes>"
      ]
     },
     "metadata": {
      "needs_background": "light"
     },
     "output_type": "display_data"
    }
   ],
   "source": [
    "closestwords_tsneplot(model, 'berlin')"
   ]
  },
  {
   "cell_type": "code",
   "execution_count": 15,
   "metadata": {},
   "outputs": [
    {
     "data": {
      "image/png": "[encoded data removed]",
      "text/plain": [
       "<Figure size 432x288 with 1 Axes>"
      ]
     },
     "metadata": {
      "needs_background": "light"
     },
     "output_type": "display_data"
    }
   ],
   "source": [
    "closestwords_tsneplot(model, 'temmuz')"
   ]
  },
  {
   "cell_type": "code",
   "execution_count": 16,
   "metadata": {},
   "outputs": [
    {
     "data": {
      "image/png": "[encoded data removed]",
      "text/plain": [
       "<Figure size 432x288 with 1 Axes>"
      ]
     },
     "metadata": {
      "needs_background": "light"
     },
     "output_type": "display_data"
    }
   ],
   "source": [
    "closestwords_tsneplot(model, 'mustafa')"
   ]
  },
  {
   "cell_type": "code",
   "execution_count": 17,
   "metadata": {},
   "outputs": [
    {
     "data": {
      "image/png": "[encoded data removed]",
      "text/plain": [
       "<Figure size 432x288 with 1 Axes>"
      ]
     },
     "metadata": {
      "needs_background": "light"
     },
     "output_type": "display_data"
    }
   ],
   "source": [
    "closestwords_tsneplot(model, 'mu')"
   ]
  },
  {
   "cell_type": "code",
   "execution_count": null,
   "metadata": {},
   "outputs": [],
   "source": []
  }
 ],
 "metadata": {
  "kernelspec": {
   "display_name": "Python 3",
   "language": "python",
   "name": "python3"
  },
  "language_info": {
   "codemirror_mode": {
    "name": "ipython",
    "version": 3
   },
   "file_extension": ".py",
   "mimetype": "text/x-python",
   "name": "python",
   "nbconvert_exporter": "python",
   "pygments_lexer": "ipython3",
   "version": "3.7.4"
  }
 },
 "nbformat": 4,
 "nbformat_minor": 2
}
